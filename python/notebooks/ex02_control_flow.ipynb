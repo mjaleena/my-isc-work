{
 "cells": [
  {
   "cell_type": "markdown",
   "metadata": {},
   "source": [
    "# Exercise 2: Control Flow"
   ]
  },
  {
   "cell_type": "markdown",
   "metadata": {},
   "source": [
    "## Aim: Introducte Python syntax for loops and if statements\n",
    "\n",
    "### Issues covered:\n",
    "- `while` statement (and escaping loops)\n",
    "- `if`/`elif`/`else` statements\n",
    "- indentation\n",
    "- testing for truth"
   ]
  },
  {
   "cell_type": "markdown",
   "metadata": {},
   "source": [
    "## 1. Let's create some while loops"
   ]
  },
  {
   "cell_type": "markdown",
   "metadata": {},
   "source": [
    "Create a never-ending `while` loop (remember: use 4 spaces for indentation)"
   ]
  },
  {
   "cell_type": "code",
   "execution_count": null,
   "metadata": {},
   "outputs": [],
   "source": [
    "a = 1\n",
    "while a > 0:\n",
    "    print(a)\n",
    "    a += 1"
   ]
  },
  {
   "cell_type": "code",
   "execution_count": null,
   "metadata": {},
   "outputs": [],
   "source": [
    "How do you escape this?"
   ]
  },
  {
   "cell_type": "markdown",
   "metadata": {},
   "source": [
    "Create a `while` loop that never gets called"
   ]
  },
  {
   "cell_type": "code",
   "execution_count": null,
   "metadata": {},
   "outputs": [],
   "source": [
    "a = \"hey you\"\n",
    "while type(a) == int:\n",
    "    print(a)\n",
    "print(\"not integer\")"
   ]
  },
  {
   "cell_type": "code",
   "execution_count": null,
   "metadata": {},
   "outputs": [],
   "source": [
    "## 2. Lets step through the items in a list using the `for` statement"
   ]
  },
  {
   "cell_type": "markdown",
   "metadata": {},
   "source": [
    "Create a variable called `gases` assigned the list `['He','Ne','Ar','Kr']`"
   ]
  },
  {
   "cell_type": "code",
   "execution_count": 4,
   "metadata": {},
   "outputs": [],
   "source": [
    "gases = ['He','Ne','Ar','Kr']"
   ]
  },
  {
   "cell_type": "markdown",
   "metadata": {},
   "source": [
    "Create a counter variable `count` assigned the value of 0"
   ]
  },
  {
   "cell_type": "code",
   "execution_count": 5,
   "metadata": {},
   "outputs": [],
   "source": [
    "count = 0"
   ]
  },
  {
   "cell_type": "markdown",
   "metadata": {},
   "source": [
    "Start a `while` loop that will loop while `count` is less than 4"
   ]
  },
  {
   "cell_type": "markdown",
   "metadata": {},
   "source": [
    "Within the `while` loop:\n",
    "   - Assign each value in `gases` to a temporary variable called `item`\n",
    "   - Print each value of `item`, along with its positiom in the list (`count`)\n",
    "   - Add 1 to the value of `count`. (What would happen if you missed this part?)"
   ]
  },
  {
   "cell_type": "code",
   "execution_count": 6,
   "metadata": {},
   "outputs": [
    {
     "name": "stdout",
     "output_type": "stream",
     "text": [
      "gas: He position: 1\n",
      "gas: Ne position: 2\n",
      "gas: Ar position: 3\n",
      "gas: Kr position: 4\n"
     ]
    }
   ],
   "source": [
    "while count < 4:\n",
    "    item = gases[count]\n",
    "    print(\"gas:\",item,\"position:\",count+1)\n",
    "    count += 1"
   ]
  },
  {
   "cell_type": "markdown",
   "metadata": {},
   "source": [
    "## 3. Let's try out `if`/`elif`/`else`"
   ]
  },
  {
   "cell_type": "markdown",
   "metadata": {},
   "source": [
    "Create a variable called `name` assigned the value \"Lisa\""
   ]
  },
  {
   "cell_type": "code",
   "execution_count": 23,
   "metadata": {},
   "outputs": [],
   "source": [
    "name = \"Aleena\""
   ]
  },
  {
   "cell_type": "markdown",
   "metadata": {},
   "source": [
    "Write an `if` block that tests if `name` is \"Lisa\": if `True` then pring the name and \"plays a saxophone\""
   ]
  },
  {
   "cell_type": "code",
   "execution_count": 15,
   "metadata": {},
   "outputs": [
    {
     "name": "stdout",
     "output_type": "stream",
     "text": [
      "Lisa plays a saxophone\n"
     ]
    }
   ],
   "source": [
    "if name == \"Lisa\":\n",
    "    print(name + \" plays a saxophone\")"
   ]
  },
  {
   "cell_type": "markdown",
   "metadata": {},
   "source": [
    "Add an `elif` block that tests if `name` is \"Bart\": If `True` then print the name and \"rides skateboard\""
   ]
  },
  {
   "cell_type": "code",
   "execution_count": 49,
   "metadata": {},
   "outputs": [
    {
     "name": "stdout",
     "output_type": "stream",
     "text": [
      "Bart rides skateboard\n"
     ]
    }
   ],
   "source": [
    "name = \"Bart\"\n",
    "if name == \"Lisa\":\n",
    "    print(name + \" plays a saxophone\")\n",
    "elif name == \"Bart\":\n",
    "    print(name + \" rides skateboard\")"
   ]
  },
  {
   "cell_type": "markdown",
   "metadata": {},
   "source": [
    "Add an `else` block. If `True` then print he name and \"lives in Springfield\""
   ]
  },
  {
   "cell_type": "code",
   "execution_count": 24,
   "metadata": {},
   "outputs": [
    {
     "name": "stdout",
     "output_type": "stream",
     "text": [
      "Aleena lives in Springfield\n"
     ]
    }
   ],
   "source": [
    "if name == \"Lisa\":\n",
    "    print(name + \" plays a saxophone\")\n",
    "elif name == \"Bart\":\n",
    "    print(name + \" rides skateboard\")\n",
    "else:\n",
    "    print(name + \" lives in Springfield\")"
   ]
  },
  {
   "cell_type": "markdown",
   "metadata": {},
   "source": [
    "## 4. Let's test the \"truth\" of different objects. In most programming languages, any object can be tested for truth valye, using and `if` or `while` condition"
   ]
  },
  {
   "cell_type": "markdown",
   "metadata": {},
   "source": [
    "Create the variable `x` and assign the value 1 to it"
   ]
  },
  {
   "cell_type": "code",
   "execution_count": 35,
   "metadata": {},
   "outputs": [],
   "source": [
    "x = [1,2]"
   ]
  },
  {
   "cell_type": "markdown",
   "metadata": {},
   "source": [
    "The following code creates a function which tests if `x` is true: \n",
    "\n",
    "```\n",
    "truthy = lambda x: print(x, 'is True') if x else print(x, 'is False')\n",
    "```"
   ]
  },
  {
   "cell_type": "markdown",
   "metadata": {},
   "source": [
    "Copy the function and try using it like this:\n",
    "\n",
    "```truthy(x)```"
   ]
  },
  {
   "cell_type": "code",
   "execution_count": 29,
   "metadata": {},
   "outputs": [],
   "source": [
    "truthy = lambda x: print(x, 'is True') if x else print(x, 'is False')"
   ]
  },
  {
   "cell_type": "markdown",
   "metadata": {},
   "source": [
    "Use the function to test if the following values are `True`:\n",
    "- `22.1`\n",
    "- `\"hello\"`\n",
    "- `[1,2]`"
   ]
  },
  {
   "cell_type": "code",
   "execution_count": 36,
   "metadata": {},
   "outputs": [
    {
     "name": "stdout",
     "output_type": "stream",
     "text": [
      "[1, 2] is True\n"
     ]
    }
   ],
   "source": [
    "truthy(x)"
   ]
  },
  {
   "cell_type": "markdown",
   "metadata": {},
   "source": [
    "Now try testing for truth with zero (integer) and zero (float): 0, 0.0"
   ]
  },
  {
   "cell_type": "code",
   "execution_count": 38,
   "metadata": {},
   "outputs": [
    {
     "name": "stdout",
     "output_type": "stream",
     "text": [
      "0.0 is False\n"
     ]
    }
   ],
   "source": [
    "truthy(0.0)"
   ]
  },
  {
   "cell_type": "markdown",
   "metadata": {},
   "source": [
    "Try some values that are likely to be false: `None`, `False`"
   ]
  },
  {
   "cell_type": "code",
   "execution_count": 40,
   "metadata": {},
   "outputs": [
    {
     "name": "stdout",
     "output_type": "stream",
     "text": [
      "False is False\n"
     ]
    }
   ],
   "source": [
    "truthy(False)"
   ]
  },
  {
   "cell_type": "markdown",
   "metadata": {},
   "source": [
    "Now try and empty string, empty sequences and a dictionary: \n",
    "- `\"\"`\n",
    "- `[]`\n",
    "- `{}` \n",
    "- `()`"
   ]
  },
  {
   "cell_type": "code",
   "execution_count": 45,
   "metadata": {},
   "outputs": [
    {
     "name": "stdout",
     "output_type": "stream",
     "text": [
      "() is False\n"
     ]
    }
   ],
   "source": [
    "truthy(())"
   ]
  }
 ],
 "metadata": {
  "kernelspec": {
   "display_name": "Python 3 + Jaspy",
   "language": "python",
   "name": "jaspy"
  },
  "language_info": {
   "codemirror_mode": {
    "name": "ipython",
    "version": 3
   },
   "file_extension": ".py",
   "mimetype": "text/x-python",
   "name": "python",
   "nbconvert_exporter": "python",
   "pygments_lexer": "ipython3",
   "version": "3.8.12"
  }
 },
 "nbformat": 4,
 "nbformat_minor": 4
}
